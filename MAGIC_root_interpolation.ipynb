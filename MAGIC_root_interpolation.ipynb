{
 "cells": [
  {
   "cell_type": "code",
   "execution_count": 1,
   "metadata": {},
   "outputs": [],
   "source": [
    "import uproot"
   ]
  },
  {
   "cell_type": "code",
   "execution_count": 2,
   "metadata": {},
   "outputs": [],
   "source": [
    "file = uproot.open(\"/home/sahil/Documents/20131004_M1_05029747.003_Y_MagicCrab-W0.40+035.root\")"
   ]
  },
  {
   "cell_type": "code",
   "execution_count": 3,
   "metadata": {},
   "outputs": [
    {
     "data": {
      "text/plain": [
       "[b'Events;1']"
      ]
     },
     "execution_count": 3,
     "metadata": {},
     "output_type": "execute_result"
    }
   ],
   "source": [
    "file.keys()"
   ]
  },
  {
   "cell_type": "code",
   "execution_count": 4,
   "metadata": {},
   "outputs": [
    {
     "data": {
      "text/plain": [
       "[b'MPointingPos.',\n",
       " b'MRawEvtHeader.',\n",
       " b'MTime.',\n",
       " b'MCerPhotEvt.',\n",
       " b'MTriggerPattern.',\n",
       " b'MArrivalTime.']"
      ]
     },
     "execution_count": 4,
     "metadata": {},
     "output_type": "execute_result"
    }
   ],
   "source": [
    "events = uproot.open(\"/home/sahil/Documents/20131004_M1_05029747.003_Y_MagicCrab-W0.40+035.root\")[\"Events\"]\n",
    "events.keys()"
   ]
  },
  {
   "cell_type": "code",
   "execution_count": 5,
   "metadata": {},
   "outputs": [
    {
     "name": "stdout",
     "output_type": "stream",
     "text": [
      "MPointingPos.              TStreamerInfo              None\n",
      "MPointingPos.MParContainer (no streamer)              None\n",
      "MPointingPos.MParContainer.TObject\n",
      "                           (no streamer)              None\n",
      "MPointingPos.MParContainer.fUniqueID\n",
      "                           TStreamerBasicType         asdtype('>u4')\n",
      "MPointingPos.MParContainer.fBits\n",
      "                           TStreamerBasicType         asdtype('>u4')\n",
      "\n",
      "MPointingPos.fZd           TStreamerBasicType         asdtype('>f8')\n",
      "MPointingPos.fAz           TStreamerBasicType         asdtype('>f8')\n",
      "MPointingPos.fDevZd        TStreamerBasicType         asdtype('>f8')\n",
      "MPointingPos.fDevAz        TStreamerBasicType         asdtype('>f8')\n",
      "MPointingPos.fRa           TStreamerBasicType         asdtype('>f8')\n",
      "MPointingPos.fHa           TStreamerBasicType         asdtype('>f8')\n",
      "MPointingPos.fDec          TStreamerBasicType         asdtype('>f8')\n",
      "MPointingPos.fDevHa        TStreamerBasicType         asdtype('>f8')\n",
      "MPointingPos.fDevDec       TStreamerBasicType         asdtype('>f8')\n",
      "\n",
      "MRawEvtHeader.             TStreamerInfo              None\n",
      "MRawEvtHeader.MParContainer\n",
      "                           (no streamer)              None\n",
      "MRawEvtHeader.MParContainer.TObject\n",
      "                           (no streamer)              None\n",
      "MRawEvtHeader.MParContainer.fUniqueID\n",
      "                           TStreamerBasicType         asdtype('>u4')\n",
      "MRawEvtHeader.MParContainer.fBits\n",
      "                           TStreamerBasicType         asdtype('>u4')\n",
      "\n",
      "MRawEvtHeader.fDAQEvtNumber\n",
      "                           TStreamerBasicType         asdtype('>u4')\n",
      "MRawEvtHeader.fClockCounter\n",
      "                           TStreamerBasicType         asdtype('>u4')\n",
      "MRawEvtHeader.fNumTrigLvl2 TStreamerBasicType         asdtype('>u4')\n",
      "MRawEvtHeader.fStereoEvtNumber\n",
      "                           TStreamerBasicType         asdtype('>u4')\n",
      "MRawEvtHeader.fTrigPattern[2]\n",
      "                           TStreamerBasicType         asdtype(\"('>u4', (2,))\")\n",
      "MRawEvtHeader.fMacrocellsPattern\n",
      "                           TStreamerBasicType         asdtype('>u4')\n",
      "MRawEvtHeader.fNumLoGainOn TStreamerBasicType         asdtype('>u2')\n",
      "MRawEvtHeader.fTimeDiff    TStreamerBasicType         asdtype('>f8')\n",
      "MRawEvtHeader.fTelescopeNumber\n",
      "                           TStreamerBasicType         asdtype('>u4')\n",
      "\n",
      "MTime.                     TStreamerInfo              None\n",
      "MTime.MParContainer        (no streamer)              None\n",
      "MTime.MParContainer.TObject\n",
      "                           (no streamer)              None\n",
      "MTime.MParContainer.fUniqueID\n",
      "                           TStreamerBasicType         asdtype('>u4')\n",
      "MTime.MParContainer.fBits  TStreamerBasicType         asdtype('>u4')\n",
      "\n",
      "MTime.fMjd                 TStreamerBasicType         asdtype('>u4')\n",
      "MTime.fTime                TStreamerObjectAny         None\n",
      "MTime.fTime.fMilliSec      TStreamerBasicType         asdtype('>i8')\n",
      "\n",
      "MTime.fNanoSec             TStreamerBasicType         asdtype('>u4')\n",
      "\n",
      "MCerPhotEvt.               TStreamerInfo              None\n",
      "MCerPhotEvt.MParContainer  (no streamer)              None\n",
      "MCerPhotEvt.MParContainer.TObject\n",
      "                           (no streamer)              None\n",
      "MCerPhotEvt.MParContainer.fUniqueID\n",
      "                           TStreamerBasicType         asdtype('>u4')\n",
      "MCerPhotEvt.MParContainer.fBits\n",
      "                           TStreamerBasicType         asdtype('>u4')\n",
      "\n",
      "MCerPhotEvt.fNumPixels     TStreamerBasicType         asdtype('>u4')\n",
      "MCerPhotEvt.fNumIslands    TStreamerBasicType         asdtype('>i2')\n",
      "MCerPhotEvt.fNumSinglePixels\n",
      "                           TStreamerBasicType         asdtype('>i2')\n",
      "MCerPhotEvt.fSizeSinglePixels\n",
      "                           TStreamerBasicType         asdtype('>f4')\n",
      "MCerPhotEvt.fSizeSubIslands\n",
      "                           TStreamerBasicType         asdtype('>f4')\n",
      "MCerPhotEvt.fSizeMainIsland\n",
      "                           TStreamerBasicType         asdtype('>f4')\n",
      "MCerPhotEvt.fMaxIndex      TStreamerBasicType         asdtype('>i4')\n",
      "MCerPhotEvt.fThresholdInner\n",
      "                           TStreamerBasicType         asdtype('>f4')\n",
      "MCerPhotEvt.fThresholdOuter\n",
      "                           TStreamerBasicType         asdtype('>f4')\n",
      "MCerPhotEvt.fPixels        TStreamerObjectPointer     None\n",
      "MCerPhotEvt.fPixels.fUniqueID\n",
      "                           TStreamerBasicType         asjagged(asdtype('>u4'))\n",
      "MCerPhotEvt.fPixels.fBits  TStreamerBasicType         asjagged(asdtype('>u4'))\n",
      "MCerPhotEvt.fPixels.fPixId TStreamerBasicType         asjagged(asdtype('>i4'))\n",
      "MCerPhotEvt.fPixels.fRing  TStreamerBasicType         asjagged(asdtype('>i2'))\n",
      "MCerPhotEvt.fPixels.fPhot  TStreamerBasicType         asjagged(asdtype('>f4'))\n",
      "MCerPhotEvt.fPixels.fErrPhot\n",
      "                           TStreamerBasicType         asjagged(asdtype('>f4'))\n",
      "MCerPhotEvt.fPixels.fChisquare\n",
      "                           TStreamerBasicType         asjagged(asdtype('>f4'))\n",
      "MCerPhotEvt.fPixels.fFWHM  TStreamerBasicType         asjagged(asdtype('>f4'))\n",
      "MCerPhotEvt.fPixels.fFWFM  TStreamerBasicType         asjagged(asdtype('>f4'))\n",
      "MCerPhotEvt.fPixels.fIsSaturated\n",
      "                           TStreamerBasicType         asjagged(asdtype('bool'))\n",
      "MCerPhotEvt.fPixels.fIsHGSaturated\n",
      "                           TStreamerBasicType         asjagged(asdtype('bool'))\n",
      "MCerPhotEvt.fPixels.fSecondaries\n",
      "                           TStreamerObjectAny         asjagged(asdtype('>f4'), 4)\n",
      "MCerPhotEvt.fPixels.fSecondaryTime\n",
      "                           TStreamerObjectAny         asjagged(asdtype('>f4'), 4)\n",
      "\n",
      "MTriggerPattern.           TStreamerInfo              None\n",
      "MTriggerPattern.MParContainer\n",
      "                           (no streamer)              None\n",
      "MTriggerPattern.MParContainer.TObject\n",
      "                           (no streamer)              None\n",
      "MTriggerPattern.MParContainer.fUniqueID\n",
      "                           TStreamerBasicType         asdtype('>u4')\n",
      "MTriggerPattern.MParContainer.fBits\n",
      "                           TStreamerBasicType         asdtype('>u4')\n",
      "\n",
      "MTriggerPattern.fPrescaled TStreamerBasicType         asdtype('>u2')\n",
      "MTriggerPattern.fUnprescaled\n",
      "                           TStreamerBasicType         asdtype('>u2')\n",
      "MTriggerPattern.fSoftware  TStreamerBasicType         asdtype('>u2')\n",
      "MTriggerPattern.fSkipEvent TStreamerBasicType         asdtype('bool')\n",
      "\n",
      "MArrivalTime.              TStreamerInfo              None\n",
      "MArrivalTime.MParContainer (no streamer)              None\n",
      "MArrivalTime.MParContainer.TObject\n",
      "                           (no streamer)              None\n",
      "MArrivalTime.MParContainer.fUniqueID\n",
      "                           TStreamerBasicType         asdtype('>u4')\n",
      "MArrivalTime.MParContainer.fBits\n",
      "                           TStreamerBasicType         asdtype('>u4')\n",
      "\n",
      "MArrivalTime.fData         TStreamerObjectAny         asjagged(asdtype('>f4'), 4)\n",
      "\n"
     ]
    }
   ],
   "source": [
    "events.show()"
   ]
  },
  {
   "cell_type": "code",
   "execution_count": 8,
   "metadata": {},
   "outputs": [
    {
     "data": {
      "text/plain": [
       "(1039, 1)"
      ]
     },
     "execution_count": 8,
     "metadata": {},
     "output_type": "execute_result"
    }
   ],
   "source": [
    "a = events.array(\"MCerPhotEvt.fPixels.fPhot\")\n",
    "a = numpy.asarray(a)\n",
    "x = a[10][0:1039]\n",
    "x = x[:,None]\n",
    "x.shape"
   ]
  },
  {
   "cell_type": "code",
   "execution_count": 7,
   "metadata": {},
   "outputs": [],
   "source": [
    "from dl1_data_handler.image_mapper import ImageMapper\n",
    "import numpy"
   ]
  },
  {
   "cell_type": "code",
   "execution_count": 9,
   "metadata": {},
   "outputs": [],
   "source": [
    "import matplotlib.pyplot as plt\n",
    "def plot_image(image):\n",
    "    fig, ax = plt.subplots(1)\n",
    "    ax.set_aspect(1)\n",
    "    ax.pcolor(image[:,:,0], cmap='viridis')\n",
    "    plt.show()"
   ]
  },
  {
   "cell_type": "code",
   "execution_count": 15,
   "metadata": {
    "scrolled": true
   },
   "outputs": [
    {
     "data": {
      "image/png": "[encoded data removed]",
      "text/plain": [
       "<Figure size 432x288 with 1 Axes>"
      ]
     },
     "metadata": {
      "needs_background": "light"
     },
     "output_type": "display_data"
    }
   ],
   "source": [
    "test_pixel_values = x\n",
    "cam = \"MAGICCam\"\n",
    "mapping_method = {cam: 'bilinear_interpolation'}\n",
    "default_mapper = ImageMapper(mapping_method = mapping_method)\n",
    "image = default_mapper.map_image(pixels=test_pixel_values, camera_type = cam)\n",
    "plot_image(image)"
   ]
  },
  {
   "cell_type": "code",
   "execution_count": 25,
   "metadata": {},
   "outputs": [],
   "source": [
    "import ctapipe\n",
    "from ctapipe.io.eventsource import EventSource"
   ]
  },
  {
   "cell_type": "code",
   "execution_count": 26,
   "metadata": {},
   "outputs": [
    {
     "ename": "TypeError",
     "evalue": "Can't instantiate abstract class EventSource with abstract methods _generator, is_compatible",
     "output_type": "error",
     "traceback": [
      "\u001b[0;31m---------------------------------------------------------------------------\u001b[0m",
      "\u001b[0;31mTypeError\u001b[0m                                 Traceback (most recent call last)",
      "\u001b[0;32m<ipython-input-26-43c82a65cb9c>\u001b[0m in \u001b[0;36m<module>\u001b[0;34m\u001b[0m\n\u001b[0;32m----> 1\u001b[0;31m \u001b[0;32mwith\u001b[0m \u001b[0mEventSource\u001b[0m\u001b[0;34m(\u001b[0m\u001b[0;34m\"/home/sahil/Documents/20131004_M1_05029747.003_Y_MagicCrab-W0.40+035.root\"\u001b[0m\u001b[0;34m)\u001b[0m \u001b[0;32mas\u001b[0m \u001b[0msource\u001b[0m\u001b[0;34m:\u001b[0m\u001b[0;34m\u001b[0m\u001b[0;34m\u001b[0m\u001b[0m\n\u001b[0m\u001b[1;32m      2\u001b[0m     \u001b[0;32mfor\u001b[0m \u001b[0mevent\u001b[0m \u001b[0;32min\u001b[0m \u001b[0msource\u001b[0m\u001b[0;34m:\u001b[0m\u001b[0;34m\u001b[0m\u001b[0;34m\u001b[0m\u001b[0m\n\u001b[1;32m      3\u001b[0m         \u001b[0mevent\u001b[0m\u001b[0;34m\u001b[0m\u001b[0;34m\u001b[0m\u001b[0m\n",
      "\u001b[0;32m~/anaconda3/envs/ctlearn/lib/python3.7/site-packages/traitlets/traitlets.py\u001b[0m in \u001b[0;36m__new__\u001b[0;34m(cls, *args, **kwargs)\u001b[0m\n\u001b[1;32m    953\u001b[0m         \u001b[0mnew_meth\u001b[0m \u001b[0;34m=\u001b[0m \u001b[0msuper\u001b[0m\u001b[0;34m(\u001b[0m\u001b[0mHasDescriptors\u001b[0m\u001b[0;34m,\u001b[0m \u001b[0mcls\u001b[0m\u001b[0;34m)\u001b[0m\u001b[0;34m.\u001b[0m\u001b[0m__new__\u001b[0m\u001b[0;34m\u001b[0m\u001b[0;34m\u001b[0m\u001b[0m\n\u001b[1;32m    954\u001b[0m         \u001b[0;32mif\u001b[0m \u001b[0mnew_meth\u001b[0m \u001b[0;32mis\u001b[0m \u001b[0mobject\u001b[0m\u001b[0;34m.\u001b[0m\u001b[0m__new__\u001b[0m\u001b[0;34m:\u001b[0m\u001b[0;34m\u001b[0m\u001b[0;34m\u001b[0m\u001b[0m\n\u001b[0;32m--> 955\u001b[0;31m             \u001b[0minst\u001b[0m \u001b[0;34m=\u001b[0m \u001b[0mnew_meth\u001b[0m\u001b[0;34m(\u001b[0m\u001b[0mcls\u001b[0m\u001b[0;34m)\u001b[0m\u001b[0;34m\u001b[0m\u001b[0;34m\u001b[0m\u001b[0m\n\u001b[0m\u001b[1;32m    956\u001b[0m         \u001b[0;32melse\u001b[0m\u001b[0;34m:\u001b[0m\u001b[0;34m\u001b[0m\u001b[0;34m\u001b[0m\u001b[0m\n\u001b[1;32m    957\u001b[0m             \u001b[0minst\u001b[0m \u001b[0;34m=\u001b[0m \u001b[0mnew_meth\u001b[0m\u001b[0;34m(\u001b[0m\u001b[0mcls\u001b[0m\u001b[0;34m,\u001b[0m \u001b[0;34m*\u001b[0m\u001b[0margs\u001b[0m\u001b[0;34m,\u001b[0m \u001b[0;34m**\u001b[0m\u001b[0mkwargs\u001b[0m\u001b[0;34m)\u001b[0m\u001b[0;34m\u001b[0m\u001b[0;34m\u001b[0m\u001b[0m\n",
      "\u001b[0;31mTypeError\u001b[0m: Can't instantiate abstract class EventSource with abstract methods _generator, is_compatible"
     ]
    }
   ],
   "source": [
    "with EventSource(\"/home/sahil/Documents/20131004_M1_05029747.003_Y_MagicCrab-W0.40+035.root\") as source:\n",
    "    for event in source:\n",
    "        event"
   ]
  },
  {
   "cell_type": "code",
   "execution_count": 23,
   "metadata": {},
   "outputs": [],
   "source": []
  },
  {
   "cell_type": "code",
   "execution_count": null,
   "metadata": {},
   "outputs": [],
   "source": []
  }
 ],
 "metadata": {
  "kernelspec": {
   "display_name": "Python 3",
   "language": "python",
   "name": "python3"
  },
  "language_info": {
   "codemirror_mode": {
    "name": "ipython",
    "version": 3
   },
   "file_extension": ".py",
   "mimetype": "text/x-python",
   "name": "python",
   "nbconvert_exporter": "python",
   "pygments_lexer": "ipython3",
   "version": "3.7.3"
  }
 },
 "nbformat": 4,
 "nbformat_minor": 4
}
